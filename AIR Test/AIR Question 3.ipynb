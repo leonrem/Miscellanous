{
 "cells": [
  {
   "cell_type": "markdown",
   "metadata": {},
   "source": [
    "# Question 3"
   ]
  },
  {
   "cell_type": "markdown",
   "metadata": {},
   "source": [
    "<p>Before taking on this question, I will import pandas to help me work with the csv dataset.</p>"
   ]
  },
  {
   "cell_type": "code",
   "execution_count": 1,
   "metadata": {},
   "outputs": [],
   "source": [
    "import pandas as pd"
   ]
  },
  {
   "cell_type": "code",
   "execution_count": 2,
   "metadata": {},
   "outputs": [],
   "source": [
    "# I kept the csv in the same directory as this file\n",
    "patents = pd.read_csv('patent_drawing.csv') "
   ]
  },
  {
   "cell_type": "code",
   "execution_count": 3,
   "metadata": {},
   "outputs": [
    {
     "data": {
      "text/html": [
       "<div>\n",
       "<style scoped>\n",
       "    .dataframe tbody tr th:only-of-type {\n",
       "        vertical-align: middle;\n",
       "    }\n",
       "\n",
       "    .dataframe tbody tr th {\n",
       "        vertical-align: top;\n",
       "    }\n",
       "\n",
       "    .dataframe thead th {\n",
       "        text-align: right;\n",
       "    }\n",
       "</style>\n",
       "<table border=\"1\" class=\"dataframe\">\n",
       "  <thead>\n",
       "    <tr style=\"text-align: right;\">\n",
       "      <th></th>\n",
       "      <th>uuid</th>\n",
       "      <th>patent_id</th>\n",
       "      <th>text</th>\n",
       "    </tr>\n",
       "  </thead>\n",
       "  <tbody>\n",
       "    <tr>\n",
       "      <th>0</th>\n",
       "      <td>urfl2ulyjgez01g5selfflnz7</td>\n",
       "      <td>4491930</td>\n",
       "      <td>A better understanding of the invention may be...</td>\n",
       "    </tr>\n",
       "    <tr>\n",
       "      <th>1</th>\n",
       "      <td>nqdxwthotlcted3d961ao373x</td>\n",
       "      <td>4490979</td>\n",
       "      <td>A better understanding of the invention will b...</td>\n",
       "    </tr>\n",
       "    <tr>\n",
       "      <th>2</th>\n",
       "      <td>9mwinm7as0p0j3245tdxhfuiz</td>\n",
       "      <td>4491969</td>\n",
       "      <td>A better understanding of the invention will b...</td>\n",
       "    </tr>\n",
       "    <tr>\n",
       "      <th>3</th>\n",
       "      <td>l1n6w0ofqic6yow2t7qwmvqry</td>\n",
       "      <td>4490948</td>\n",
       "      <td>A better understanding of the present inventio...</td>\n",
       "    </tr>\n",
       "    <tr>\n",
       "      <th>4</th>\n",
       "      <td>86bndneq4omf3mfxi60dzr5mx</td>\n",
       "      <td>4491426</td>\n",
       "      <td>A better understanding of the present inventio...</td>\n",
       "    </tr>\n",
       "  </tbody>\n",
       "</table>\n",
       "</div>"
      ],
      "text/plain": [
       "                        uuid patent_id  \\\n",
       "0  urfl2ulyjgez01g5selfflnz7   4491930   \n",
       "1  nqdxwthotlcted3d961ao373x   4490979   \n",
       "2  9mwinm7as0p0j3245tdxhfuiz   4491969   \n",
       "3  l1n6w0ofqic6yow2t7qwmvqry   4490948   \n",
       "4  86bndneq4omf3mfxi60dzr5mx   4491426   \n",
       "\n",
       "                                                text  \n",
       "0  A better understanding of the invention may be...  \n",
       "1  A better understanding of the invention will b...  \n",
       "2  A better understanding of the invention will b...  \n",
       "3  A better understanding of the present inventio...  \n",
       "4  A better understanding of the present inventio...  "
      ]
     },
     "execution_count": 3,
     "metadata": {},
     "output_type": "execute_result"
    }
   ],
   "source": [
    "# I take a quick peak at how the information came in\n",
    "patents.head()"
   ]
  },
  {
   "cell_type": "markdown",
   "metadata": {},
   "source": [
    "## Part A"
   ]
  },
  {
   "attachments": {},
   "cell_type": "markdown",
   "metadata": {},
   "source": [
    "<p>Hopefully I am understanding this question correctly. It seems like we want to see how many rows have the word(s) \"view\" or \"perspective\" in them while not including those rows which also have \"bottom\", \"top\", \"front\" or \"rear\" in the text field.</p>"
   ]
  },
  {
   "cell_type": "code",
   "execution_count": 4,
   "metadata": {},
   "outputs": [],
   "source": [
    "# To make this more dynamic, I make a list of what we want to find and what we want to avoid\n",
    "target_words = ['view', 'perspective']\n",
    "avoid_words = ['bottom','top','front','rear']"
   ]
  },
  {
   "cell_type": "markdown",
   "metadata": {},
   "source": [
    "\\pagebreak"
   ]
  },
  {
   "cell_type": "code",
   "execution_count": 5,
   "metadata": {},
   "outputs": [
    {
     "name": "stdout",
     "output_type": "stream",
     "text": [
      "The number of text entries that include \"view\" or \"perspective\" but not \"bottom\", \"top\", \"front\", or \"rear\" is: 3955\n"
     ]
    }
   ],
   "source": [
    "count = 0\n",
    "\n",
    "for s in patents['text']: # parsing through each description\n",
    "    split_text = s.split() # splitting each text by a whitespace, because words like 'ontop' should not flag\n",
    "    flag = 0\n",
    "    for a in avoid_words: # comparing each of the words we want to avoid with the text\n",
    "        if a in split_text: \n",
    "            flag += 1 # if a word we should avoid is found in the text, we flag it to move to a new text\n",
    "            break\n",
    "    if flag < 1: # testing to see if our first search flagged\n",
    "        for t in target_words: # following the same setup as in our first test\n",
    "            if t in split_text: \n",
    "                count+=1\n",
    "    else:\n",
    "        pass # if the flag is raised, we move on to the next text line\n",
    "    \n",
    "print('The number of text entries that include \\\"view\\\" or \\\"perspective\\\" but ' \n",
    "      + str('not \\\"bottom\\\", \\\"top\\\", \\\"front\\\", or \\\"rear\\\" is: ')+ str(count))"
   ]
  },
  {
   "cell_type": "markdown",
   "metadata": {},
   "source": [
    "## Part B"
   ]
  },
  {
   "cell_type": "markdown",
   "metadata": {},
   "source": [
    "<p>Because some of the patent_ids are strings, it is harder to groupby patent_id. So we need to understand how the patent_id data looks like.</p>"
   ]
  },
  {
   "cell_type": "code",
   "execution_count": 6,
   "metadata": {},
   "outputs": [
    {
     "data": {
      "text/plain": [
       "count        8156\n",
       "unique       1096\n",
       "top       4491287\n",
       "freq           59\n",
       "Name: patent_id, dtype: object"
      ]
     },
     "execution_count": 6,
     "metadata": {},
     "output_type": "execute_result"
    }
   ],
   "source": [
    "patents['patent_id'].describe()"
   ]
  },
  {
   "cell_type": "markdown",
   "metadata": {},
   "source": [
    "<p>The simple description actually allows us to understand how to calculate the average number of pictures per patent. We will take the total number of entries and divide by the number of uniquie entries.</p>"
   ]
  },
  {
   "cell_type": "code",
   "execution_count": 7,
   "metadata": {},
   "outputs": [
    {
     "name": "stdout",
     "output_type": "stream",
     "text": [
      "The average number of pictures per patent is: 7.4416058394160585\n"
     ]
    }
   ],
   "source": [
    "avg = len(patents.index)/patents['patent_id'].nunique()\n",
    "\n",
    "print('The average number of pictures per patent is: '+ str(avg))"
   ]
  }
 ],
 "metadata": {
  "kernelspec": {
   "display_name": "Python 3",
   "language": "python",
   "name": "python3"
  },
  "language_info": {
   "codemirror_mode": {
    "name": "ipython",
    "version": 3
   },
   "file_extension": ".py",
   "mimetype": "text/x-python",
   "name": "python",
   "nbconvert_exporter": "python",
   "pygments_lexer": "ipython3",
   "version": "3.7.3"
  }
 },
 "nbformat": 4,
 "nbformat_minor": 2
}
